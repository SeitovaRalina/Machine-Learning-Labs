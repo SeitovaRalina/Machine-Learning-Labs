{
 "cells": [
  {
   "cell_type": "code",
   "execution_count": 1,
   "metadata": {},
   "outputs": [],
   "source": [
    "import numpy as np\n",
    "import pandas as pd"
   ]
  },
  {
   "cell_type": "code",
   "execution_count": 2,
   "metadata": {},
   "outputs": [
    {
     "name": "stdout",
     "output_type": "stream",
     "text": [
      "X_train shape: (120, 4), y_train shape: (120, 1),\n",
      "X_test shape: (30, 4), y_test shape: (30, 1)\n"
     ]
    }
   ],
   "source": [
    "from sklearn.datasets import load_iris\n",
    "from sklearn.model_selection import train_test_split \n",
    "\n",
    "iris_dataset = load_iris()\n",
    "\n",
    "X_train, X_test, y_train, y_test = train_test_split(iris_dataset.data, \n",
    "                                                    iris_dataset['target'].reshape(-1,1),\n",
    "                                                    test_size=0.2,\n",
    "                                                    random_state=0) # random_state - для воспроизводимости\n",
    "\n",
    "print(f'X_train shape: {X_train.shape}, y_train shape: {y_train.shape},\\n'\n",
    "      f'X_test shape: {X_test.shape}, y_test shape: {y_test.shape}') # test_size = 0.25"
   ]
  },
  {
   "cell_type": "code",
   "execution_count": 3,
   "metadata": {},
   "outputs": [
    {
     "data": {
      "text/html": [
       "<div>\n",
       "<style scoped>\n",
       "    .dataframe tbody tr th:only-of-type {\n",
       "        vertical-align: middle;\n",
       "    }\n",
       "\n",
       "    .dataframe tbody tr th {\n",
       "        vertical-align: top;\n",
       "    }\n",
       "\n",
       "    .dataframe thead th {\n",
       "        text-align: right;\n",
       "    }\n",
       "</style>\n",
       "<table border=\"1\" class=\"dataframe\">\n",
       "  <thead>\n",
       "    <tr style=\"text-align: right;\">\n",
       "      <th></th>\n",
       "      <th>sepal length (cm)</th>\n",
       "      <th>sepal width (cm)</th>\n",
       "      <th>petal length (cm)</th>\n",
       "      <th>petal width (cm)</th>\n",
       "      <th>type</th>\n",
       "    </tr>\n",
       "  </thead>\n",
       "  <tbody>\n",
       "    <tr>\n",
       "      <th>0</th>\n",
       "      <td>5.1</td>\n",
       "      <td>3.5</td>\n",
       "      <td>1.4</td>\n",
       "      <td>0.2</td>\n",
       "      <td>0</td>\n",
       "    </tr>\n",
       "    <tr>\n",
       "      <th>1</th>\n",
       "      <td>4.9</td>\n",
       "      <td>3.0</td>\n",
       "      <td>1.4</td>\n",
       "      <td>0.2</td>\n",
       "      <td>0</td>\n",
       "    </tr>\n",
       "    <tr>\n",
       "      <th>2</th>\n",
       "      <td>4.7</td>\n",
       "      <td>3.2</td>\n",
       "      <td>1.3</td>\n",
       "      <td>0.2</td>\n",
       "      <td>0</td>\n",
       "    </tr>\n",
       "    <tr>\n",
       "      <th>3</th>\n",
       "      <td>4.6</td>\n",
       "      <td>3.1</td>\n",
       "      <td>1.5</td>\n",
       "      <td>0.2</td>\n",
       "      <td>0</td>\n",
       "    </tr>\n",
       "    <tr>\n",
       "      <th>4</th>\n",
       "      <td>5.0</td>\n",
       "      <td>3.6</td>\n",
       "      <td>1.4</td>\n",
       "      <td>0.2</td>\n",
       "      <td>0</td>\n",
       "    </tr>\n",
       "    <tr>\n",
       "      <th>...</th>\n",
       "      <td>...</td>\n",
       "      <td>...</td>\n",
       "      <td>...</td>\n",
       "      <td>...</td>\n",
       "      <td>...</td>\n",
       "    </tr>\n",
       "    <tr>\n",
       "      <th>145</th>\n",
       "      <td>6.7</td>\n",
       "      <td>3.0</td>\n",
       "      <td>5.2</td>\n",
       "      <td>2.3</td>\n",
       "      <td>2</td>\n",
       "    </tr>\n",
       "    <tr>\n",
       "      <th>146</th>\n",
       "      <td>6.3</td>\n",
       "      <td>2.5</td>\n",
       "      <td>5.0</td>\n",
       "      <td>1.9</td>\n",
       "      <td>2</td>\n",
       "    </tr>\n",
       "    <tr>\n",
       "      <th>147</th>\n",
       "      <td>6.5</td>\n",
       "      <td>3.0</td>\n",
       "      <td>5.2</td>\n",
       "      <td>2.0</td>\n",
       "      <td>2</td>\n",
       "    </tr>\n",
       "    <tr>\n",
       "      <th>148</th>\n",
       "      <td>6.2</td>\n",
       "      <td>3.4</td>\n",
       "      <td>5.4</td>\n",
       "      <td>2.3</td>\n",
       "      <td>2</td>\n",
       "    </tr>\n",
       "    <tr>\n",
       "      <th>149</th>\n",
       "      <td>5.9</td>\n",
       "      <td>3.0</td>\n",
       "      <td>5.1</td>\n",
       "      <td>1.8</td>\n",
       "      <td>2</td>\n",
       "    </tr>\n",
       "  </tbody>\n",
       "</table>\n",
       "<p>150 rows × 5 columns</p>\n",
       "</div>"
      ],
      "text/plain": [
       "     sepal length (cm)  sepal width (cm)  petal length (cm)  petal width (cm)  \\\n",
       "0                  5.1               3.5                1.4               0.2   \n",
       "1                  4.9               3.0                1.4               0.2   \n",
       "2                  4.7               3.2                1.3               0.2   \n",
       "3                  4.6               3.1                1.5               0.2   \n",
       "4                  5.0               3.6                1.4               0.2   \n",
       "..                 ...               ...                ...               ...   \n",
       "145                6.7               3.0                5.2               2.3   \n",
       "146                6.3               2.5                5.0               1.9   \n",
       "147                6.5               3.0                5.2               2.0   \n",
       "148                6.2               3.4                5.4               2.3   \n",
       "149                5.9               3.0                5.1               1.8   \n",
       "\n",
       "     type  \n",
       "0       0  \n",
       "1       0  \n",
       "2       0  \n",
       "3       0  \n",
       "4       0  \n",
       "..    ...  \n",
       "145     2  \n",
       "146     2  \n",
       "147     2  \n",
       "148     2  \n",
       "149     2  \n",
       "\n",
       "[150 rows x 5 columns]"
      ]
     },
     "execution_count": 3,
     "metadata": {},
     "output_type": "execute_result"
    }
   ],
   "source": [
    "df = pd.DataFrame(iris_dataset['data'], columns=iris_dataset.feature_names)\n",
    "df['type'] = iris_dataset['target']\n",
    "df"
   ]
  },
  {
   "cell_type": "markdown",
   "metadata": {},
   "source": [
    "- Entropy (Энтропия)\\\n",
    "$E = \\sum{}{}-p_i\\cdot \\log{2}{p_i}$, где $p_i =$ *probability of class i*\n",
    "\n",
    "- Gini Index (Индекс Джини)\\\n",
    "$G = 1 - \\sum{}{}(p_i)^2$\n",
    "\n",
    "- MSE (квадратичная ошибка)\\\n",
    "$squared error = \\sum{}{}(y - \\widetilde{y})^2$\n",
    "\n",
    "- MAE (абсолютная ошибка)\\\n",
    "$absolute error = \\sum{}{}|y - \\widetilde{y}|$\n",
    "\n",
    "- Information Gain (Прирост информации)\\\n",
    "$IG = E(parent) - \\sum{}{}w_i\\cdot E(child_i)$"
   ]
  },
  {
   "cell_type": "code",
   "execution_count": 4,
   "metadata": {},
   "outputs": [],
   "source": [
    "%run -m CART"
   ]
  },
  {
   "cell_type": "code",
   "execution_count": 5,
   "metadata": {},
   "outputs": [
    {
     "name": "stdout",
     "output_type": "stream",
     "text": [
      "X_2 <= 1.700\n",
      "|   left: 0.0000\n",
      "|   right: X_3 <= 1.700\n",
      "|   |   left: X_2 <= 4.900\n",
      "|   |   |   left: X_3 <= 1.600\n",
      "|   |   |   |   left: 1.0000\n",
      "|   |   |   |   right: 2.0000\n",
      "|   |   |   right: X_3 <= 1.500\n",
      "|   |   |   |   left: 2.0000\n",
      "|   |   |   |   right: 1.0000\n",
      "|   |   right: X_2 <= 4.800\n",
      "|   |   |   left: 2.0000\n",
      "|   |   |   right: 2.0000\n"
     ]
    }
   ],
   "source": [
    "classifier = ClassificationAndRegressionTrees(min_samples_split=3, max_depth=3, criterion=\"entropy\")\n",
    "classifier.fit(X_train,y_train)\n",
    "classifier.print_tree()\n",
    "# feature_names=list(iris_dataset.feature_names)"
   ]
  },
  {
   "cell_type": "code",
   "execution_count": 6,
   "metadata": {},
   "outputs": [
    {
     "data": {
      "text/plain": [
       "0.9333333333333333"
      ]
     },
     "execution_count": 6,
     "metadata": {},
     "output_type": "execute_result"
    }
   ],
   "source": [
    "from sklearn.metrics import accuracy_score\n",
    "\n",
    "y_pred = classifier.predict(X_test) \n",
    "accuracy_score(y_test, y_pred)"
   ]
  },
  {
   "cell_type": "code",
   "execution_count": 7,
   "metadata": {},
   "outputs": [],
   "source": [
    "from sklearn.datasets import make_regression\n",
    "x, y = make_regression(n_samples=1000, n_features=20)\n"
   ]
  },
  {
   "cell_type": "code",
   "execution_count": 8,
   "metadata": {},
   "outputs": [
    {
     "name": "stdout",
     "output_type": "stream",
     "text": [
      "X_train shape: (800, 20), y_train shape: (800, 1),\n",
      " X_test shape: (200, 20), y_test shape: (200, 1)\n"
     ]
    }
   ],
   "source": [
    "X_train, X_test, y_train, y_test = train_test_split(x, y.reshape(-1,1), test_size=0.2, random_state=0)\n",
    "\n",
    "print(f'X_train shape: {X_train.shape}, y_train shape: {y_train.shape},\\n', f'X_test shape: {X_test.shape}, y_test shape: {y_test.shape}')"
   ]
  },
  {
   "cell_type": "code",
   "execution_count": 9,
   "metadata": {},
   "outputs": [
    {
     "name": "stdout",
     "output_type": "stream",
     "text": [
      "X_3 <= -0.330\n",
      "|   left: X_18 <= -0.017\n",
      "|   |   left: X_15 <= -0.813\n",
      "|   |   |   left: X_3 <= -1.254\n",
      "|   |   |   |   left: -422.4918\n",
      "|   |   |   |   right: -241.0743\n",
      "|   |   |   right: X_0 <= -0.636\n",
      "|   |   |   |   left: -232.3643\n",
      "|   |   |   |   right: -101.2620\n",
      "|   |   right: X_0 <= -0.371\n",
      "|   |   |   left: X_12 <= 1.109\n",
      "|   |   |   |   left: -157.8232\n",
      "|   |   |   |   right: 52.7832\n",
      "|   |   |   right: X_18 <= 1.154\n",
      "|   |   |   |   left: -15.5741\n",
      "|   |   |   |   right: 175.5184\n",
      "|   right: X_18 <= -0.118\n",
      "|   |   left: X_0 <= -0.711\n",
      "|   |   |   left: X_15 <= 1.101\n",
      "|   |   |   |   left: -166.1384\n",
      "|   |   |   |   right: 21.5687\n",
      "|   |   |   right: X_15 <= -0.565\n",
      "|   |   |   |   left: -94.0148\n",
      "|   |   |   |   right: 60.1510\n",
      "|   |   right: X_0 <= -0.111\n",
      "|   |   |   left: X_16 <= -0.793\n",
      "|   |   |   |   left: -56.7804\n",
      "|   |   |   |   right: 84.1746\n",
      "|   |   |   right: X_3 <= 0.946\n",
      "|   |   |   |   left: 154.6824\n",
      "|   |   |   |   right: 325.1030\n"
     ]
    }
   ],
   "source": [
    "regressor = ClassificationAndRegressionTrees(min_samples_split=3, max_depth=3, criterion=\"squared_error\")\n",
    "regressor.fit(X_train,y_train)\n",
    "regressor.print_tree()"
   ]
  },
  {
   "cell_type": "code",
   "execution_count": 10,
   "metadata": {},
   "outputs": [],
   "source": [
    "y_pred = regressor.predict(X_test)"
   ]
  },
  {
   "cell_type": "code",
   "execution_count": null,
   "metadata": {},
   "outputs": [],
   "source": []
  }
 ],
 "metadata": {
  "kernelspec": {
   "display_name": "Python 3",
   "language": "python",
   "name": "python3"
  },
  "language_info": {
   "codemirror_mode": {
    "name": "ipython",
    "version": 3
   },
   "file_extension": ".py",
   "mimetype": "text/x-python",
   "name": "python",
   "nbconvert_exporter": "python",
   "pygments_lexer": "ipython3",
   "version": "3.11.5"
  }
 },
 "nbformat": 4,
 "nbformat_minor": 2
}
